{
 "cells": [
  {
   "cell_type": "code",
   "execution_count": 14,
   "metadata": {},
   "outputs": [],
   "source": [
    "import pandas as pd"
   ]
  },
  {
   "cell_type": "code",
   "execution_count": 16,
   "metadata": {},
   "outputs": [
    {
     "name": "stdout",
     "output_type": "stream",
     "text": [
      "DataFrame df:\n",
      "      Name  Age         City\n",
      "0    Alice   25     New York\n",
      "1      Bob   30  Los Angeles\n",
      "2  Charlie   35      Chicago\n"
     ]
    }
   ],
   "source": [
    "# 1. Creating a DataFrame\n",
    "data = {'Name': ['Alice', 'Bob', 'Charlie'],\n",
    "        'Age': [25, 30, 35],\n",
    "        'City': ['New York', 'Los Angeles', 'Chicago']}\n",
    "df = pd.DataFrame(data)\n",
    "print(\"DataFrame df:\")\n",
    "print(df)\n"
   ]
  },
  {
   "cell_type": "code",
   "execution_count": 12,
   "metadata": {},
   "outputs": [
    {
     "name": "stdout",
     "output_type": "stream",
     "text": [
      "First 5 rows of the DataFrame:\n",
      "      0 1 2 3\n",
      "0     1 4 5 6\n",
      "1    2 7 8 9 \n",
      "2  3 10 11 12\n",
      "3  4 13 14 14\n",
      "4  5 16 17 18\n"
     ]
    }
   ],
   "source": [
    "# 2. Reading a CSV File (Assuming 'data.csv' is in the current directory)\n",
    "# Reading data from a CSV file\n",
    "df = pd.read_csv('sample_data.csv')\n",
    "\n",
    "# Displaying the first few rows of the DataFrame\n",
    "print(\"First 5 rows of the DataFrame:\")\n",
    "print(df.head())"
   ]
  },
  {
   "cell_type": "code",
   "execution_count": 17,
   "metadata": {},
   "outputs": [
    {
     "name": "stdout",
     "output_type": "stream",
     "text": [
      "Selecting a single column 'Name':\n",
      "0      Alice\n",
      "1        Bob\n",
      "2    Charlie\n",
      "Name: Name, dtype: object\n",
      "Selecting multiple columns 'Name' and 'Age':\n",
      "      Name  Age\n",
      "0    Alice   25\n",
      "1      Bob   30\n",
      "2  Charlie   35\n",
      "Selecting rows by index (first two rows):\n",
      "    Name  Age         City\n",
      "0  Alice   25     New York\n",
      "1    Bob   30  Los Angeles\n",
      "Selecting rows by condition (Age > 30):\n",
      "      Name  Age     City\n",
      "2  Charlie   35  Chicago\n"
     ]
    }
   ],
   "source": [
    "# 3. Data Selection\n",
    "print(\"Selecting a single column 'Name':\")\n",
    "print(df['Name'])\n",
    "\n",
    "print(\"Selecting multiple columns 'Name' and 'Age':\")\n",
    "print(df[['Name', 'Age']])\n",
    "\n",
    "print(\"Selecting rows by index (first two rows):\")\n",
    "print(df.iloc[0:2])\n",
    "\n",
    "print(\"Selecting rows by condition (Age > 30):\")\n",
    "print(df[df['Age'] > 30])\n"
   ]
  },
  {
   "cell_type": "code",
   "execution_count": null,
   "metadata": {},
   "outputs": [
    {
     "name": "stdout",
     "output_type": "stream",
     "text": [
      "Grouped and Aggregated DataFrame:\n",
      "              Age\n",
      "City             \n",
      "Chicago      35.0\n",
      "Los Angeles  30.0\n",
      "New York     25.0\n"
     ]
    }
   ],
   "source": [
    "#4 Group by 'City' and calculate the mean of 'Age' and 'Salary'\n",
    "numeric_columns = df.select_dtypes(include='number').columns\n",
    "grouped = df.groupby('City')[numeric_columns].mean()\n",
    "\n",
    "print(\"Grouped and Aggregated DataFrame:\")\n",
    "print(grouped)"
   ]
  },
  {
   "cell_type": "code",
   "execution_count": null,
   "metadata": {},
   "outputs": [
    {
     "name": "stdout",
     "output_type": "stream",
     "text": [
      "DataFrame with New Column 'Salary':\n",
      "      Name  Age         City  Salary\n",
      "0    Alice   25     New York   70000\n",
      "1      Bob   30  Los Angeles   80000\n",
      "2  Charlie   35      Chicago   90000\n"
     ]
    }
   ],
   "source": [
    "# 5. Adding a New Column\n",
    "df['Salary'] = [70000, 80000, 90000]\n",
    "print(\"DataFrame with New Column 'Salary':\")\n",
    "print(df)"
   ]
  },
  {
   "cell_type": "code",
   "execution_count": null,
   "metadata": {},
   "outputs": [
    {
     "name": "stdout",
     "output_type": "stream",
     "text": [
      "DataFrame with NaN value:\n",
      "      Name  Age         City   Salary\n",
      "0    Alice   25     New York  70000.0\n",
      "1      Bob   30  Los Angeles      NaN\n",
      "2  Charlie   35      Chicago  90000.0\n",
      "Filling NaN values with 0:\n",
      "      Name  Age         City   Salary\n",
      "0    Alice   25     New York  70000.0\n",
      "1      Bob   30  Los Angeles      0.0\n",
      "2  Charlie   35      Chicago  90000.0\n"
     ]
    }
   ],
   "source": [
    "# 6. Handling Missing Data\n",
    "df_with_nan = df.copy()\n",
    "df_with_nan.loc[1, 'Salary'] = np.nan\n",
    "\n",
    "print(\"DataFrame with NaN value:\")\n",
    "print(df_with_nan)\n",
    "\n",
    "print(\"Filling NaN values with 0:\")\n",
    "df_with_nan.fillna(0, inplace=True)\n",
    "print(df_with_nan)"
   ]
  },
  {
   "cell_type": "code",
   "execution_count": null,
   "metadata": {},
   "outputs": [
    {
     "name": "stdout",
     "output_type": "stream",
     "text": [
      "DataFrame df2:\n",
      "    Name  Salary\n",
      "0  Alice   70000\n",
      "1    Bob   80000\n",
      "2  David   60000\n",
      "Merged DataFrame:\n",
      "    Name  Age         City  Salary_x  Salary_y\n",
      "0  Alice   25     New York     70000     70000\n",
      "1    Bob   30  Los Angeles     80000     80000\n"
     ]
    }
   ],
   "source": [
    "# 7. Merging DataFrames\n",
    "data2 = {'Name': ['Alice', 'Bob', 'David'],\n",
    "         'Salary': [70000, 80000, 60000]}\n",
    "df2 = pd.DataFrame(data2)\n",
    "print(\"DataFrame df2:\")\n",
    "print(df2)\n",
    "\n",
    "merged_df = pd.merge(df, df2, on='Name', how='inner')\n",
    "print(\"Merged DataFrame:\")\n",
    "print(merged_df)"
   ]
  }
 ],
 "metadata": {
  "kernelspec": {
   "display_name": "Python 3",
   "language": "python",
   "name": "python3"
  },
  "language_info": {
   "codemirror_mode": {
    "name": "ipython",
    "version": 3
   },
   "file_extension": ".py",
   "mimetype": "text/x-python",
   "name": "python",
   "nbconvert_exporter": "python",
   "pygments_lexer": "ipython3",
   "version": "3.9.6"
  }
 },
 "nbformat": 4,
 "nbformat_minor": 2
}
